{
 "cells": [
  {
   "cell_type": "markdown",
   "id": "81c447e0",
   "metadata": {
    "colab_type": "text",
    "id": "view-in-github"
   },
   "source": [
    "<a href=\"https://colab.research.google.com/github/HBocaccio/NumLabIMC/blob/main/Colabs/nb04_Metodos2D.ipynb\" target=\"_parent\"><img src=\"https://colab.research.google.com/assets/colab-badge.svg\" alt=\"Open In Colab\"/></a>"
   ]
  },
  {
   "cell_type": "markdown",
   "id": "BOepFYbhg2H0",
   "metadata": {
    "id": "BOepFYbhg2H0"
   },
   "source": [
    "# **Introducción al modelado continuo** (*a.k.a.* **Ecuaciones de la física matemática**)\n",
    "## Laboratorio numérico 2024\n",
    "\n",
    "Bienvenidos al laboratorio numérico de la materia *Introducción al modelado continuo*, también conocida como *Ecuaciones de la física matemática*. En este, vamos a ver métodos numéricos para resolver distintos tipos de problemas de manera general, y su relación y aplicación a problemas específicos de la materia, de manera tal de complementar los contenidos de la cursada teórico-práctica."
   ]
  },
  {
   "cell_type": "markdown",
   "id": "6rixVwE4g6tm",
   "metadata": {
    "id": "6rixVwE4g6tm"
   },
   "source": [
    "# Motivación de este colab\n",
    "<!-- $$\\require{amsmath}$$ -->\n",
    "\n",
    "Recordemos que estamos estudiando **sistemas dinámicos**, con reglas representadas por **ecuaciones diferenciales ordinarias (ODEs)**. En el caso 2D, vamos a tener conjuntos de pares de ecuaciones que describen la evolución temporal de dos variables.\n",
    "\n",
    "Podemos ver directamente como encontrar **soluciones al problema de valor inicial en 2D** usando métodos de **integración numérica** 2D. Estas soluciones van a ser trayectorias en el diagrama de fases que nos permitirán estudiar el sistema. Inclusive, podemos ver la estrategia de **integrar hacia atrás**, para encontrar variedades inestables. También vamos a ver cómo **graficar el campo vector** usando herramientas de visualización de matplotlib. Por último, podemos complementar estos análisis con la **búsqueda de puntos fijos** y el estudio de su **estabilidad mediante linearización** del sistema.\n",
    "\n"
   ]
  },
  {
   "cell_type": "markdown",
   "id": "wv8zQCLahLGn",
   "metadata": {
    "id": "wv8zQCLahLGn"
   },
   "source": [
    "# Métodos de integración numérica 2D\n",
    "\n",
    "### [I. Método de Euler](#euler)\n",
    "### [II. Método de Runge-Kutta](#rk4)\n",
    "### [III. Método Odeint de scipy](#odeint)"
   ]
  },
  {
   "cell_type": "markdown",
   "id": "7a290eb6",
   "metadata": {
    "id": "7a290eb6"
   },
   "source": [
    "<a name=\"euler\"></a>\n",
    "## I. Método de Euler 2D\n",
    "\n",
    "Supongamos que tenemos una sistema de ecuación diferenciales del tipo:\n",
    "\n",
    "$$\\dot{x} = f(t, x, y)$$\n",
    "$$\\dot{y} = g(t, x, y)$$\n",
    "\n",
    "Con una condición inicial dada $({x}_{0},{y}_{0})$.\n",
    "\n",
    "Como vimos, la integración numérica consiste en aproximar las soluciones de un conjunto de ecuaciones diferenciales utilizando una discretización en la variable temporal. En el caso del método de Euler, vamos a aproximar mediante un mapa que va de $({x}_{n},{y}_{n})$ a $({x}_{n+1},{x}_{n+1})$.\n",
    "\n",
    "Luego, un paso de integración mediante el método de Euler 2D será:\n",
    "\n",
    "$${x}_{n+1} = {x}_{n} + h f(t_{n}, {x}_{n}, {y}_{n})$$\n",
    "$${y}_{n+1} = {y}_{n} + h g(t_{n}, {x}_{n}, {y}_{n})$$\n",
    "\n",
    "Esto también se puede expresar de manera vectorial, con posibilidad de generalizarse a más dimensiones\n",
    "\n",
    "$${\\vec{x}}_{n+1} = {\\vec{x}}_{n} + h \\vec{f}(t_{n}, {\\vec{x}}_{n})$$\n",
    "\n",
    "Que resuelve el sistema de ecuaciones general escrito de manera vectorial\n",
    "\n",
    "$$\\frac{d\\vec{x}}{dt} = \\vec{f}(t, \\vec{x})$$\n"
   ]
  },
  {
   "cell_type": "markdown",
   "id": "18f77a63",
   "metadata": {
    "id": "18f77a63"
   },
   "source": [
    "\n",
    "---\n",
    "\n",
    "**Ejemplo:**\n",
    "\n",
    "Por ejemplo, podemos replantear la función de integración de Euler realizada en la clase pasada, pero esta vez para el caso 2D. El objetivo será resolver el siguiente sistema de ecuaciones:\n",
    "\n",
    "$$\n",
    "\\dot{x} = 4x+2y\n",
    "$$\n",
    "$$\n",
    "\\dot{y} = -17x-5y\n",
    "$$\n",
    "\n",
    "Igual que antes, hacemos Euler:\n",
    "$$\n",
    "x(t+dt) = x(t) + [4 x(t)+ 2 y(t)] dt\n",
    "$$\n",
    "$$\n",
    "y(t+dt) = y(t) + [-17 x(t) - 5y(t) ]dt\n",
    "$$\n"
   ]
  },
  {
   "cell_type": "code",
   "execution_count": null,
   "id": "hxwPLvNXgRSo",
   "metadata": {
    "id": "hxwPLvNXgRSo"
   },
   "outputs": [],
   "source": [
    "import numpy as np\n",
    "import matplotlib.pyplot as plt\n",
    "import scipy as sp\n",
    "from scipy.integrate import odeint"
   ]
  },
  {
   "cell_type": "code",
   "execution_count": null,
   "id": "832543bf",
   "metadata": {
    "id": "832543bf"
   },
   "outputs": [],
   "source": [
    "# Definimos las ecuaciones que rigen el sistema\n",
    "def ecuaciones(x, y, params=[]):\n",
    "    x_dot = 4*x + 2*y\n",
    "    y_dot = -17*x - 5*y\n",
    "    return x_dot, y_dot\n",
    "\n",
    "# Definimos la función para integrar con el método de Euler\n",
    "def integrar_ecuaciones(total_time, dt, X0, params=[]):\n",
    "    num_steps = int(np.divide(total_time, dt))\n",
    "    xs = np.empty(num_steps)\n",
    "    ys = np.empty(num_steps)\n",
    "    xs[0], ys[0] = X0\n",
    "    x_dot = np.empty(num_steps)\n",
    "    y_dot = np.empty(num_steps)\n",
    "    x_dot[0], y_dot[0] = ecuaciones(xs[0], ys[0], params)\n",
    "    for i in range(num_steps-1):\n",
    "        xs[i+1] = xs[i] + x_dot[i]*dt\n",
    "        ys[i+1] = ys[i] + y_dot[i]*dt\n",
    "        x_dot[i+1], y_dot[i+1] = ecuaciones(xs[i+1], ys[i+1], params)\n",
    "    return xs, ys, num_steps"
   ]
  },
  {
   "cell_type": "markdown",
   "id": "309da0f6",
   "metadata": {
    "id": "309da0f6"
   },
   "source": [
    "Integramos"
   ]
  },
  {
   "cell_type": "code",
   "execution_count": null,
   "id": "9265a2f1",
   "metadata": {
    "id": "9265a2f1"
   },
   "outputs": [],
   "source": [
    "# Definimos el paso de integración\n",
    "dt = 0.05\n",
    "# Definimos el tiempo total de integración\n",
    "total_time = 20\n",
    "# Definimos la condición inicial\n",
    "X0 = (1.5, 0.0)\n",
    "# Integramos\n",
    "x, y, num_steps = integrar_ecuaciones(total_time, dt, X0)\n",
    "# Definimos el vector de tiempos y los vectores x, y que iremos llenando\n",
    "t = np.arange(0, total_time, step=dt)"
   ]
  },
  {
   "cell_type": "markdown",
   "id": "a0bf5604",
   "metadata": {
    "id": "a0bf5604"
   },
   "source": [
    "Graficamos las soluciones. Vemos la evolución temporal de cada una de las variables y la trayectoria del flujo 2D en el espacio de fases."
   ]
  },
  {
   "cell_type": "code",
   "execution_count": null,
   "id": "51acc872",
   "metadata": {
    "id": "51acc872"
   },
   "outputs": [],
   "source": [
    "plt.figure(figsize=(12,4))\n",
    "\n",
    "plt.subplot(131)\n",
    "plt.plot(t, x, 'darkred')\n",
    "plt.xlabel('t', fontsize=14)\n",
    "plt.ylabel('x', fontsize=14)\n",
    "\n",
    "plt.subplot(132)\n",
    "plt.plot(t, y, 'k')\n",
    "plt.xlabel('t', fontsize=14)\n",
    "plt.ylabel('y', fontsize=14)\n",
    "\n",
    "plt.subplot(133)\n",
    "plt.plot(x, y, 'darkcyan')\n",
    "plt.xlabel('x', fontsize=14)\n",
    "plt.ylabel('y', fontsize=14)\n",
    "\n",
    "plt.subplots_adjust(wspace=0.3)\n",
    "plt.show()"
   ]
  },
  {
   "cell_type": "markdown",
   "id": "IW-blUKEpTKu",
   "metadata": {
    "id": "IW-blUKEpTKu"
   },
   "source": [
    "**Pregunta:**\n",
    "\n",
    "Qué tipo de punto es el origen?\n",
    "\n",
    "---"
   ]
  },
  {
   "cell_type": "markdown",
   "id": "2b8aeba4",
   "metadata": {
    "id": "2b8aeba4"
   },
   "source": [
    "<a name=\"rk4\"></a>\n",
    "## II. Método de [Runge-Kutta](https://en.wikipedia.org/wiki/Runge%E2%80%93Kutta_methods)\n",
    "\n"
   ]
  },
  {
   "cell_type": "markdown",
   "id": "0520bec0",
   "metadata": {
    "id": "0520bec0"
   },
   "source": [
    "La generalización de RK4 a ordenes superiores es directa, pero en lugar de considerar a las variables como escalares, ahora son vectores\n",
    "\n",
    "$$\\vec{K}_1 = \\vec{f}(t_n, \\vec{x}_n)\\\\\n",
    "\\vec{K}_2 = \\vec{f}\\left(t_n + \\frac{h}{2}, \\vec{x}_n + \\frac{h}{2} \\vec{K}_1\\right)\\\\\n",
    "\\vec{K}_3 = \\vec{f}\\left(t_n + \\frac{h}{2}, \\vec{x}_n + \\frac{h}{2} \\vec{K}_2\\right)\\\\\n",
    "\\vec{K}_4 = \\vec{f}(t_n + h, \\vec{x}_n + h \\vec{K}_3)$$\n",
    "\n",
    "La actualización de $\\vec{x}$ se realiza mediante:\n",
    "\n",
    "$$\\vec{x}_{n+1} = \\vec{x}_n + \\frac{h}{6} (\\vec{K}_1 + 2\\vec{K}_2 + 2\\vec{K}_3 + \\vec{K}_4)$$"
   ]
  },
  {
   "cell_type": "code",
   "execution_count": null,
   "id": "6895b3e1",
   "metadata": {
    "id": "6895b3e1"
   },
   "outputs": [],
   "source": [
    "def rk4(dxdt, x, t, dt, *args, **kwargs):\n",
    "    x = np.asarray(x)\n",
    "    k1 = np.asarray(dxdt(x, t, *args, **kwargs))*dt\n",
    "    k2 = np.asarray(dxdt(x + k1*0.5, t, *args, **kwargs))*dt\n",
    "    k3 = np.asarray(dxdt(x + k2*0.5, t, *args, **kwargs))*dt\n",
    "    k4 = np.asarray(dxdt(x + k3, t, *args, **kwargs))*dt\n",
    "    return x + (k1 + 2*k2 + 2*k3 + k4)/6"
   ]
  },
  {
   "cell_type": "markdown",
   "id": "cb407f3c",
   "metadata": {
    "id": "cb407f3c"
   },
   "source": [
    "La forma de utilizarlo sería:\n",
    "\n",
    "`x[i+1], y[i+1] = rk4(campo_vector, [x[i], y[i]], tt, dt)`\n",
    "\n",
    "Lo aplicamos al sistema de antes\n",
    "\n",
    "$$\n",
    "\\dot{x} = 4x+2y\n",
    "$$\n",
    "$$\n",
    "\\dot{y} = -17x-5y\n",
    "$$\n"
   ]
  },
  {
   "cell_type": "code",
   "execution_count": null,
   "id": "87e1043e",
   "metadata": {
    "id": "87e1043e"
   },
   "outputs": [],
   "source": [
    "# # # Ahora vamos a definir una función \"campo_vector\" con el sistema de ecuaciones, en formato compatible con nuestra función rk4\n",
    "def campo_vector(z, t):\n",
    "    # Como ahora las variables vienen en una lista (en el primer argumento: z)\n",
    "    # primero las separamos para que sea más claro\n",
    "    x = z[0]\n",
    "    y = z[1]\n",
    "    # Y ahora calculamos las derivadas\n",
    "    dxdt = 4*x + 2*y\n",
    "    dydt = -17*x - 5*y\n",
    "    return [dxdt, dydt]\n",
    "\n",
    "# Integración Runge-Kutta 4\n",
    "dt = 0.01\n",
    "tmax = 10\n",
    "t = np.arange(0, tmax, step=dt)\n",
    "xrk = np.zeros_like(t)\n",
    "yrk = np.zeros_like(t)\n",
    "xrk[0] = 0.01\n",
    "yrk[0] = 0\n",
    "for ix, tt in enumerate(t[:-1]):\n",
    "    xrk[ix+1], yrk[ix+1] = rk4(campo_vector, [xrk[ix], yrk[ix]], tt, dt)\n",
    "plt.figure(figsize=(5,5))\n",
    "plt.plot(xrk, yrk)\n",
    "plt.plot(xrk[0], yrk[0], 'ko')\n",
    "plt.xlabel('x', fontsize=14)\n",
    "plt.ylabel('y', fontsize=14)\n",
    "plt.show()"
   ]
  },
  {
   "cell_type": "markdown",
   "id": "-ggfvAiRmZgi",
   "metadata": {
    "id": "-ggfvAiRmZgi"
   },
   "source": [
    "Para varias condiciones iniciales"
   ]
  },
  {
   "cell_type": "code",
   "execution_count": null,
   "id": "g6ZdJQRrmYzi",
   "metadata": {
    "id": "g6ZdJQRrmYzi"
   },
   "outputs": [],
   "source": [
    "# Integración Runge-Kutta 4\n",
    "dt = 0.01\n",
    "tmax = 1\n",
    "t = np.arange(0, tmax, step=dt)\n",
    "plt.figure(figsize=(5,5))\n",
    "Xi = np.linspace(-4, 4, 4)\n",
    "Yi = np.linspace(-4, 4, 4)\n",
    "for xi in Xi:\n",
    "    for yi in Yi:\n",
    "        xt = np.zeros_like(t)\n",
    "        yt = np.zeros_like(t)\n",
    "        xt[0], yt[0] = xi, yi\n",
    "        # for ix, tt in enumerate(t[:-1]):\n",
    "        #     xt[ix+1], yt[ix+1] = rk4(campo_vector, [xt[ix], yt[ix]], tt, dt)\n",
    "        for i in range(len(t)-1):\n",
    "            xt[i+1], yt[i+1] = rk4(campo_vector, [xt[i], yt[i]], t[i], dt)\n",
    "        plt.plot(xt, yt)\n",
    "        plt.plot(xt[0], yt[0], 'ko')\n",
    "plt.xlabel('x', fontsize=14)\n",
    "plt.ylabel('y', fontsize=14)\n",
    "plt.show()"
   ]
  },
  {
   "cell_type": "markdown",
   "id": "e9ae044a",
   "metadata": {
    "id": "e9ae044a"
   },
   "source": [
    "---\n",
    "## III. [Odeint](https://docs.scipy.org/doc/scipy/reference/generated/scipy.integrate.odeint.html)\n",
    "\n",
    "En 2 (o más) dimensiones funciona muy parecido al caso 1D. Sólo nos tenemos que ocupar de escribir correctamente el campo vector para que el primer argumento sea una lista que va a contener en cada elemento una variable distinta, desempaquetarlo y devolver un array de derivadas.\n",
    "\n",
    "```\n",
    "def campo_vector(variables, t):\n",
    "    var1 = variables[0]\n",
    "    var2 = variables[1]\n",
    "    ...\n",
    "    dvar1 = ...\n",
    "    dvar2 = ...\n",
    "    ...\n",
    "    return [dvar1, dvar2, ...]\n",
    "```\n",
    "\n",
    "Veamoslo con el sistema de antes\n",
    "\n",
    "$$\n",
    "\\dot{x} = 4x+2y\n",
    "$$\n",
    "$$\n",
    "\\dot{y} = -17x-5y\n",
    "$$\n",
    "\n",
    "Podemos aprovechar que ya escribimos la función `campo_vector` con el formato necesario, y utilizarla"
   ]
  },
  {
   "cell_type": "code",
   "execution_count": null,
   "id": "ccb23a5b",
   "metadata": {
    "id": "ccb23a5b"
   },
   "outputs": [],
   "source": [
    "dt = 0.001\n",
    "tmax = 10\n",
    "t = np.arange(0, tmax, dt)\n",
    "# Ponemos condiciones iniciales\n",
    "xi = 0.01\n",
    "yi = 0\n",
    "# Y nos armamos una lista que contiene ci de cada variable\n",
    "zi = [xi, yi]\n",
    "# Llamamos al odeint y vean que le pasamos la lista de condiciones iniciales!\n",
    "sol = sp.integrate.odeint(campo_vector, zi, t)\n",
    "# Vean como nos viene la solución:\n",
    "print(sol)\n",
    "plt.figure(figsize=(5,5))\n",
    "plt.plot(sol[:, 0], sol[:, 1])\n",
    "plt.plot(xi, yi, 'ko')\n",
    "plt.xlabel('x', fontsize=14)\n",
    "plt.ylabel('y', fontsize=14)\n",
    "plt.show()"
   ]
  },
  {
   "cell_type": "markdown",
   "id": "Q5YnC30XtueH",
   "metadata": {
    "id": "Q5YnC30XtueH"
   },
   "source": [
    "### Problemas con Odeint\n",
    "\n",
    "Hay circunstancias donde el integrador odeint puede llegar a tener problemas y, al no tener acceso al algoritmo de manera transparente (recordemos que va cambiando de método segun le convenga), es difícil lidiar con ellos.\n",
    "\n",
    "Veamos por ejemplo cómo se dibujan las soluciones del campo vector en este ejemplo:"
   ]
  },
  {
   "cell_type": "code",
   "execution_count": null,
   "id": "761UuHOytuQv",
   "metadata": {
    "id": "761UuHOytuQv"
   },
   "outputs": [],
   "source": [
    "# Sistema de ecuaciones\n",
    "# (notar que podriamos definir primero el tiempo como variable de entrada, usando el argumento tfirst del odeint)\n",
    "def f(z, t): #f(t, z)\n",
    "    x = z[0]\n",
    "    y = z[1]\n",
    "    dxdt = x-y\n",
    "    dydt = x**2-4\n",
    "    return [dxdt, dydt]\n",
    "\n",
    "# Integración odeint\n",
    "dt = 0.01\n",
    "tmax = 1.3\n",
    "t = np.arange(0, tmax, dt)\n",
    "Xi = np.linspace(-4, 4, 4)\n",
    "Yi = np.linspace(-4, 4, 4)\n",
    "plt.figure()\n",
    "for xi in Xi:\n",
    "    for yi in Yi:\n",
    "        zi = [xi, yi]\n",
    "        sol_fut = sp.integrate.odeint(f, zi, t) #, tfirst=True\n",
    "        xt = sol_fut[:, 0]\n",
    "        yt = sol_fut[:, 1]\n",
    "        plt.plot(xt, yt)\n",
    "        plt.plot(xt[0], yt[0], 'ko')\n",
    "plt.xlim(-10, 10)\n",
    "plt.ylim(-10, 10)\n",
    "plt.show()"
   ]
  },
  {
   "cell_type": "markdown",
   "id": "NAM06HNZd4oG",
   "metadata": {
    "id": "NAM06HNZd4oG"
   },
   "source": [
    "Esto era lo que daba con el integrador RK4 de antes"
   ]
  },
  {
   "cell_type": "code",
   "execution_count": null,
   "id": "ydZyWnN3tuIA",
   "metadata": {
    "id": "ydZyWnN3tuIA"
   },
   "outputs": [],
   "source": [
    "plt.figure()\n",
    "for xi in Xi:\n",
    "    for yi in Yi:\n",
    "        xt = np.zeros_like(t)\n",
    "        yt = np.zeros_like(t)\n",
    "        xt[0], yt[0] = xi, yi\n",
    "        for i in range(len(t)-1):\n",
    "            xt[i+1], yt[i+1] = rk4(f, [xt[i], yt[i]], t[i], dt)\n",
    "        plt.plot(xt, yt)\n",
    "        plt.plot(xt[0], yt[0], 'ko')\n",
    "plt.xlim(-10, 10)\n",
    "plt.ylim(-10, 10)\n",
    "plt.show()"
   ]
  },
  {
   "cell_type": "markdown",
   "id": "kvNL1a_bVM5o",
   "metadata": {
    "id": "kvNL1a_bVM5o"
   },
   "source": [
    "### Alternativas con Scipy\n",
    "\n",
    "La función `sp.integrate.odeint` ya quedará en desuso de acerdo a la documentación de Scipy. Recomiendan el uso de la función `sp.integrate.solve_ivp` [(documentación)](https://docs.scipy.org/doc/scipy/reference/generated/scipy.integrate.solve_ivp.html).\n",
    "\n",
    "Probamos de aplicarlo al sistema de antes\n",
    "\n",
    "$$\n",
    "\\dot{x} = 4x+2y\n",
    "$$\n",
    "$$\n",
    "\\dot{y} = -17x-5y\n",
    "$$\n",
    "\n",
    "Este sistema lo habíamos definido en la función `campo_vector(z, t)`. Ahora vamos a definir una nueva función `campo_vector_adaptado(t, z)` que tenga el tiempo como primera variable."
   ]
  },
  {
   "cell_type": "code",
   "execution_count": null,
   "id": "_DudLpUNpTGA",
   "metadata": {
    "id": "_DudLpUNpTGA"
   },
   "outputs": [],
   "source": [
    "def campo_vector_adaptado(t, z):\n",
    "    return campo_vector(z, t)"
   ]
  },
  {
   "cell_type": "code",
   "execution_count": null,
   "id": "Iw7AMMFju2-C",
   "metadata": {
    "id": "Iw7AMMFju2-C"
   },
   "outputs": [],
   "source": [
    "dt = 0.001\n",
    "tmax = 10\n",
    "t = np.arange(0, tmax, dt)\n",
    "xi = 0.01\n",
    "yi = 0\n",
    "ti = t[0]\n",
    "zi = [xi, yi]\n",
    "sol = sp.integrate.solve_ivp(campo_vector_adaptado, [t[0], t[-1]], zi, t_eval=t, method='RK45')\n",
    "\n",
    "plt.figure(figsize=(5,5))\n",
    "plt.plot(sol.y[0, :], sol.y[1, :])\n",
    "plt.plot(xi, yi, 'ko')\n",
    "plt.xlabel('x', fontsize=14)\n",
    "plt.ylabel('y', fontsize=14)\n",
    "plt.show()"
   ]
  },
  {
   "cell_type": "markdown",
   "id": "Ur3MBTEMWXEV",
   "metadata": {
    "id": "Ur3MBTEMWXEV"
   },
   "source": [
    "---\n",
    "## Ejercicio 1\n",
    "\n",
    "1.1 Defina una función `fun()` que admita un parámetro de entrada `a`, para resolver el siguiente sistema general:\n",
    "\n",
    "$$\n",
    "\\dot{x} = a.x+2y\n",
    "$$\n",
    "$$\n",
    "\\dot{y} = -17x-5y\n",
    "$$\n",
    "\n",
    "1.2. Muestre que se recupera la solución anterior para a=4.\n",
    "\n",
    "1.3. Pruebe con un valor de a=7. ¿Cómo da la integración numérica para distintas condiciones iniciales? ¿Qué tipo de punto fijo es el orígen? Evalúe la solución para una condición inicial en ese punto (vea la solución sin necesariamente graficar).\n",
    "\n",
    "1.4. ¿Y qué pasa para a=5? Pueder reptir esto para el integrador Odeint y comparar los resultados obtenidos."
   ]
  },
  {
   "cell_type": "code",
   "execution_count": null,
   "id": "HYVj6qfJ0GjU",
   "metadata": {
    "id": "HYVj6qfJ0GjU"
   },
   "outputs": [],
   "source": [
    "def fun(t, z, a=4):\n",
    "    x= z[0]\n",
    "    y=z[1]\n",
    "    dxdt = a*x + 2*y\n",
    "    dydt= -17*x-5*y\n",
    "    return [dxdt, dydt]"
   ]
  },
  {
   "cell_type": "markdown",
   "id": "67374dac",
   "metadata": {
    "id": "67374dac"
   },
   "source": [
    "---\n",
    "## Integrar hacia atrás"
   ]
  },
  {
   "cell_type": "code",
   "execution_count": null,
   "id": "d1384d97",
   "metadata": {
    "id": "d1384d97"
   },
   "outputs": [],
   "source": [
    "def campo_vector(z, t):\n",
    "    x = z[0]\n",
    "    y = z[1]\n",
    "    dxdt = 4*x+2*y\n",
    "    dydt = -17*x-5*y\n",
    "    return [dxdt, dydt]\n",
    "\n",
    "dt = 0.01\n",
    "t = np.arange(0, 10, step=dt)\n",
    "xrk = np.zeros_like(t)\n",
    "yrk = np.zeros_like(t)\n",
    "xrk[0] = 0.01\n",
    "yrk[0] = 0\n",
    "for ix, tt in enumerate(t[:-1]):\n",
    "    xrk[ix+1], yrk[ix+1] = rk4(campo_vector, [xrk[ix], yrk[ix]], tt, dt)\n",
    "\n",
    "tpas = np.arange(0, -1, step=-dt)\n",
    "xrkpas = np.zeros_like(tpas)\n",
    "yrkpas = np.zeros_like(tpas)\n",
    "xrkpas[0] = 0.01\n",
    "yrkpas[0] = 0\n",
    "for ix, tt in enumerate(tpas[:-1]):\n",
    "    xrkpas[ix+1], yrkpas[ix+1] = rk4(campo_vector, [xrkpas[ix], yrkpas[ix]], tt, -dt)\n",
    "\n",
    "plt.figure(figsize=(5,5))\n",
    "plt.plot(xrk, yrk)\n",
    "plt.plot(xrkpas, yrkpas)\n",
    "plt.plot(xrk[0], yrk[0], 'kX')\n",
    "plt.xlabel('x', fontsize=14)\n",
    "plt.ylabel('y', fontsize=14)\n",
    "plt.show()"
   ]
  },
  {
   "cell_type": "markdown",
   "id": "CnywA_Ep1iQS",
   "metadata": {
    "id": "CnywA_Ep1iQS"
   },
   "source": [
    "De manera análoga, se puede adaptar la variable tiempo en la función `solve_ivp` para integrar hacia atrás.\n"
   ]
  },
  {
   "cell_type": "code",
   "execution_count": null,
   "id": "bSB-SXcNyNpX",
   "metadata": {
    "id": "bSB-SXcNyNpX"
   },
   "outputs": [],
   "source": [
    "dt = 0.01\n",
    "tmax = 100\n",
    "t = np.arange(0, tmax, dt)\n",
    "a = 6\n",
    "xi = 0.01\n",
    "yi = 0\n",
    "zi = [xi, yi]\n",
    "sol = sp.integrate.solve_ivp(fun, [t[-1], t[0]], zi, t_eval=t[::-1], method='RK45', args=(a,))\n",
    "\n",
    "plt.figure(figsize=(5,5))\n",
    "plt.plot(sol.y[0, :], sol.y[1, :])\n",
    "plt.plot(xi, yi, 'ko')\n",
    "plt.xlabel('x', fontsize=14)\n",
    "plt.ylabel('y', fontsize=14)\n",
    "plt.show()"
   ]
  },
  {
   "cell_type": "markdown",
   "id": "EJD4KFzk1zXH",
   "metadata": {
    "id": "EJD4KFzk1zXH"
   },
   "source": [
    "**Pregunta:**\n",
    "\n",
    "Para qué piensan que puede servir integrar hacia atrás?\n",
    "\n",
    "---"
   ]
  },
  {
   "cell_type": "markdown",
   "id": "8211acf5",
   "metadata": {
    "id": "8211acf5"
   },
   "source": [
    "# Gráfico del campo vector\n",
    "\n",
    "Primero armamos una grilla de puntos sobre los que calcularemos el campo vector. La grilla la armamos con [meshgrid](https://docs.scipy.org/doc/numpy/reference/generated/numpy.meshgrid.html).\n",
    "\n",
    "Para graficar las flechas una opción es usar [quiver](https://matplotlib.org/3.2.1/api/_as_gen/matplotlib.pyplot.quiver.html) de matplotlib. Como siempre, pueden explorar qué parámetros tienen para personalizar y/o mejorar la visualización."
   ]
  },
  {
   "cell_type": "code",
   "execution_count": null,
   "id": "ed20cefb",
   "metadata": {
    "id": "ed20cefb"
   },
   "outputs": [],
   "source": [
    "# Damos la grilla de puntos sobre la que miraremos el campo vector\n",
    "x_grilla, y_grilla = np.meshgrid(np.linspace(-2, 2, 20),np.linspace(-6, 6, 24))\n",
    "dx_grilla, dy_grilla = ecuaciones(x_grilla,y_grilla)\n",
    "print(np.shape(dx_grilla)) # Para ver cuántas filas y columnas\n",
    "print(dx_grilla[0][:]) # Miramos la primera fila, todas las columnas"
   ]
  },
  {
   "cell_type": "code",
   "execution_count": null,
   "id": "3e51d26e",
   "metadata": {
    "id": "3e51d26e"
   },
   "outputs": [],
   "source": [
    "# Ahora las graficamos; usamos quiver de matplotlib -> chusmear la documentación\n",
    "fig, ax = plt.subplots(figsize=(6,6))\n",
    "ax.set_title(\"campo vector\")\n",
    "ax.quiver(x_grilla, y_grilla, dx_grilla, dy_grilla, color='k', angles='xy')\n",
    "ax.set_xlabel('x', fontsize=15)\n",
    "ax.set_ylabel('y', fontsize=15)\n",
    "ax.plot(x, y)\n",
    "plt.show()"
   ]
  },
  {
   "cell_type": "markdown",
   "id": "178a8e83",
   "metadata": {
    "id": "178a8e83"
   },
   "source": [
    "## Para visualizar el flujo rápido!\n",
    "Una función **muy** útil para tener una buena idea de cómo es el flujo es [*streamplot*](https://matplotlib.org/3.1.1/api/_as_gen/matplotlib.axes.Axes.streamplot.html#matplotlib.axes.Axes.streamplot). Lo que hace es integrar durante un tiempo corto en una grilla de puntos.\n",
    "\n",
    "Para hacerlo andar, necesitamos calcular cuánto vale el campo vector en cada punto de la grilla. Primero nos definimos una grilla usando la función [meshgrid](https://docs.scipy.org/doc/numpy/reference/generated/numpy.meshgrid.html)."
   ]
  },
  {
   "cell_type": "code",
   "execution_count": null,
   "id": "8a7f541e",
   "metadata": {
    "id": "8a7f541e"
   },
   "outputs": [],
   "source": [
    "# Definimos una grilla de puntos\n",
    "XX, YY = np.meshgrid(np.arange(-2, 2, .01), np.arange(-4, 4, .01))\n",
    "\n",
    "print(XX)\n",
    "print(np.shape(XX))"
   ]
  },
  {
   "cell_type": "markdown",
   "id": "8fc96fe8",
   "metadata": {
    "id": "8fc96fe8"
   },
   "source": [
    "Ahora podemos usar el campo vector para calcular las derivadas en cada uno de estos puntos. La sintaxis para hacer esto (y que los argumentos sean potables para el streamplot) es la siguiente:"
   ]
  },
  {
   "cell_type": "code",
   "execution_count": null,
   "id": "19c717b1",
   "metadata": {
    "id": "19c717b1"
   },
   "outputs": [],
   "source": [
    "# Calculamos el campo vector en cada punto\n",
    "DX, DY = campo_vector([XX, YY], 0)\n",
    "\n",
    "#Y finalmente graficamos\n",
    "plt.streamplot(XX, YY, DX, DY, density=1, minlength=.1)\n",
    "# plt.streamplot(XX, YY, DX, DY, density=.51, minlength=.5)"
   ]
  },
  {
   "cell_type": "markdown",
   "id": "Mvjq97IKDJ95",
   "metadata": {
    "id": "Mvjq97IKDJ95"
   },
   "source": [
    "## Para cambiar valores de parámetros del sistema interactivamente"
   ]
  },
  {
   "cell_type": "markdown",
   "id": "ikZ_bjyyD2Jj",
   "metadata": {
    "id": "ikZ_bjyyD2Jj"
   },
   "source": [
    "Volvemos a ver el sistema del ejercicio 1\n",
    "\n",
    "$$\n",
    "\\dot{x} = a.x+2y\n",
    "$$\n",
    "$$\n",
    "\\dot{y} = -17x-5y\n",
    "$$\n",
    "\n",
    "Podemos hacer un grafico que nos permita modificar el valor de $a$ de manera interactiva, y que use ese valor para definir el flujo del campo vector. Esto puede ser una herramienta simpática, aunque no siempre se de las más útiles."
   ]
  },
  {
   "cell_type": "code",
   "execution_count": null,
   "id": "07ffd7bc",
   "metadata": {
    "id": "07ffd7bc"
   },
   "outputs": [],
   "source": [
    "from IPython.display import HTML\n",
    "from ipywidgets import interact"
   ]
  },
  {
   "cell_type": "code",
   "execution_count": null,
   "id": "xdeJYH6XD0uZ",
   "metadata": {
    "id": "xdeJYH6XD0uZ"
   },
   "outputs": [],
   "source": [
    "def fun(t, z, a):\n",
    "    x = z[0]\n",
    "    y = z[1]\n",
    "    dxdt = a*x + 2*y\n",
    "    dydt = -17*x - 5*y\n",
    "    return [dxdt, dydt]"
   ]
  },
  {
   "cell_type": "code",
   "execution_count": null,
   "id": "c78b4495",
   "metadata": {
    "id": "c78b4495"
   },
   "outputs": [],
   "source": [
    "a = 4\n",
    "XX, YY = np.meshgrid(np.linspace(-4., 4., 100), np.linspace(-4.,4., 100))\n",
    "def interactivo(a):\n",
    "    DX, DY = fun(0, [XX, YY], a)\n",
    "    fig = plt.figure(figsize=(5,5))\n",
    "    plt.streamplot(XX, YY, DX, DY, density=1, arrowsize=1)\n",
    "    plt.xlabel('x', fontsize=16)\n",
    "    plt.ylabel('y', fontsize=16)\n",
    "    plt.show()"
   ]
  },
  {
   "cell_type": "code",
   "execution_count": null,
   "id": "57525321",
   "metadata": {
    "id": "57525321"
   },
   "outputs": [],
   "source": [
    "interact(interactivo, a=(0,15,1))"
   ]
  },
  {
   "cell_type": "markdown",
   "id": "92b3e045",
   "metadata": {
    "id": "92b3e045"
   },
   "source": [
    "---\n",
    "# Ejercicio 2\n",
    "\n",
    "Se el sistema descrito por el siguiente conjunto de ecuaciones\n",
    "\n",
    "$$\n",
    "\\dot{x} = y\\\\\n",
    "$$\n",
    "$$\n",
    "\\dot{y} = -x\n",
    "$$\n",
    "\n",
    "Encuentre la solución para condiciones iniciales [1, 0]. Puedo decir que se trata de un ciclo límite? Justifique usando las herramientas vistas\n",
    "\n"
   ]
  },
  {
   "cell_type": "code",
   "execution_count": null,
   "id": "0JjaYnvqjV-R",
   "metadata": {
    "id": "0JjaYnvqjV-R"
   },
   "outputs": [],
   "source": [
    "def campo_vector(z, t):\n",
    "    # Como ahora las variables vienen en una lista (en el primer argumento: z)\n",
    "    # primero las separamos para que sea más claro\n",
    "    x = z[0]\n",
    "    y = z[1]\n",
    "    # Y ahora calculamos las derivadas\n",
    "    dxdt = y\n",
    "    dydt = -x\n",
    "    return [dxdt, dydt]\n",
    "\n",
    "# Integración Runge-Kutta 4\n",
    "dt = 0.01\n",
    "tmax = 10\n",
    "t = np.arange(0, tmax, step=dt)\n",
    "xrk = np.zeros_like(t)\n",
    "yrk = np.zeros_like(t)\n",
    "xrk[0] = 1\n",
    "yrk[0] = 0\n",
    "for ix, tt in enumerate(t[:-1]):\n",
    "    xrk[ix+1], yrk[ix+1] = rk4(campo_vector, [xrk[ix], yrk[ix]], tt, dt)\n",
    "plt.figure(figsize=(5,5))\n",
    "plt.plot(xrk, yrk)\n",
    "plt.plot(xrk[0], yrk[0], 'ko')\n",
    "plt.xlabel('x', fontsize=14)\n",
    "plt.ylabel('y', fontsize=14)\n",
    "plt.show()"
   ]
  },
  {
   "cell_type": "markdown",
   "id": "gW3qV2lUaqnf",
   "metadata": {
    "id": "gW3qV2lUaqnf"
   },
   "source": [
    "---\n",
    "# Ejercicio 3\n",
    "\n",
    "La ecuación del [oscilador de Van der Pol](https://en.wikipedia.org/wiki/Van_der_Pol_oscillator) está dada por\n",
    "\n",
    "$$\n",
    "\\ddot{x} - \\mu(1 - x^2)\\dot{x} + x = 0\n",
    "$$\n",
    "\n",
    "3.1. Escriba una función llamada `van_der_pol` para esta ecuación expresada como un sistema dinámico.\n",
    "\n",
    "3.2. Integre con `solve_ivp` para $\\mu=2$ con condiciones iniciales $x=1$ y $\\dot{x}=0$, dandole suficiente tiempo a la solución según considere.\n",
    "\n",
    "3.3. Grafique el diagrama de fases ($x$, $\\dot{x}$) de la solución con puntos en lugar de con líneas sólidas (incluya el punto de la condición inicial de manera distintiva). Qué puede observar en referencia a la distancia entre puntos? A qué se lo atribuye?\n"
   ]
  },
  {
   "cell_type": "code",
   "execution_count": null,
   "id": "soBt-OVe-Fxz",
   "metadata": {
    "id": "soBt-OVe-Fxz"
   },
   "outputs": [],
   "source": [
    "def van_der_pol(t, z, mu=1):\n",
    "    x = z[0]\n",
    "    y = z[1]\n",
    "    dxdt = y\n",
    "    dydt = -x + mu*(1-x**2)*y\n",
    "    return [dxdt, dydt]\n",
    "\n",
    "dt = 0.05\n",
    "tmax = 10\n",
    "t = np.arange(0, tmax, dt)\n",
    "mu = 2\n",
    "xi = 1\n",
    "yi = 0\n",
    "zi = [xi, yi]\n",
    "sol = sp.integrate.solve_ivp(van_der_pol, [t[0], t[-1]], zi, t_eval=t, method='RK45', args=(mu,))\n",
    "\n",
    "plt.figure(figsize=(5,5))\n",
    "plt.scatter(sol.y[0, :], sol.y[1, :])\n",
    "plt.plot(xi, yi, 'ko')\n",
    "plt.xlabel('x', fontsize=14)\n",
    "plt.ylabel('y', fontsize=14)\n",
    "plt.show()"
   ]
  },
  {
   "cell_type": "markdown",
   "id": "ObsCYA7cpsPH",
   "metadata": {
    "id": "ObsCYA7cpsPH"
   },
   "source": [
    "---\n",
    "# Ejercicio 4\n",
    "\n",
    "Sea el siguiente sistema visto en clase\n",
    "\n",
    "$$\n",
    "\\dot{\\rho} = \\rho(1-\\rho)\\\\\n",
    "\\dot{\\phi} = \\omega + sin(\\phi)\n",
    "$$\n",
    "\n",
    "4.1. Integre el sistema para w=1 usando distintas condiciones iniciales con $\\rho$ entre 0 y 2, y $\\phi_{inicial}=0$. Vea la evolución temporal de $\\rho$.\n",
    "\n",
    "4.2. Integre el sistema para w igual a -1, 0, y 1 usando como condiciones iniciales $\\rho_{inicial}=1$ y $\\phi_{inicial}=0$. Vea la evolución temporal de $\\phi$. Cómo interpreta lo que está pasando?\n",
    "\n",
    "4.3. Integre el sistema para w=1, usando como condiciones iniciales $\\rho_{inicial}=1$ y $\\phi_{inicial}=0$. Haga la transformación a coordenadas cartesianas usando las expresiones\n",
    "\n",
    "$$\n",
    "x = \\rho.cos(\\phi)\\\\\n",
    "y = \\rho.sin(\\phi)\n",
    "$$\n",
    "\n",
    "Grafique en el diagrama de fases ($x$, $y$), pero usando puntos en lugar de una línea sólida. Qué observa? Estudie el flujo del campo vector para entender mejor lo que está pasando.\n",
    "\n",
    "Para eso, genere una grilla en ($x$,$y$). Transformela a coordenadas polares usando la expresión\n",
    "\n",
    "$$\n",
    "\\rho = \\sqrt{x^2+y^2}\\\\\n",
    "\\phi = arctan \\left(\\frac{y}{x} \\right)\n",
    "$$\n",
    "\n",
    "Calcule los valores del campo vector sin integrar en coordenadas polares y transforme esas velocidades a coordenadas cartesianas\n",
    "\n",
    "$$\n",
    "\\dot{x} = \\dot{\\rho} \\cos(\\phi) - \\rho \\dot{\\phi} \\sin(\\phi)\\\\\n",
    "\\dot{y} = \\dot{\\rho} \\sin(\\phi) + \\rho \\dot{\\phi} \\cos(\\phi)\n",
    "$$\n",
    "\n",
    "Grafique usando `quiver`.\n"
   ]
  },
  {
   "cell_type": "code",
   "execution_count": 141,
   "id": "ImQienH7t8q9",
   "metadata": {
    "id": "ImQienH7t8q9"
   },
   "outputs": [
    {
     "data": {
      "image/png": "[encoded data removed]",
      "text/plain": [
       "<Figure size 360x360 with 1 Axes>"
      ]
     },
     "metadata": {
      "needs_background": "light"
     },
     "output_type": "display_data"
    },
    {
     "data": {
      "image/png": "[encoded data removed]",
      "text/plain": [
       "<Figure size 432x432 with 1 Axes>"
      ]
     },
     "metadata": {
      "needs_background": "light"
     },
     "output_type": "display_data"
    }
   ],
   "source": [
    "def campo_vector(t, z, w=1):\n",
    "    x = z[0]\n",
    "    y = z[1]\n",
    "    dxdt = x*(1-x)\n",
    "    dydt = w + np.sin(y)\n",
    "    return [dxdt, dydt]\n",
    "\n",
    "dt = 0.05\n",
    "tmax = 100\n",
    "t = np.arange(0, tmax, dt)\n",
    "w = 1\n",
    "xi = 01.5\n",
    "yi = 0\n",
    "zi = [xi, yi]\n",
    "\n",
    "sol = sp.integrate.solve_ivp(campo_vector, [t[0], t[-1]], zi, t_eval=t, method='RK45', args=(w,))\n",
    "\n",
    "plt.figure(figsize=(5,5))\n",
    "plt.plot(sol.y[0, :], sol.y[1, :])\n",
    "plt.plot(xi, yi, 'ko')\n",
    "plt.xlabel('x', fontsize=14)\n",
    "plt.ylabel('y', fontsize=14)\n",
    "plt.show()\n",
    "\n",
    "x_grilla, y_grilla = np.meshgrid(np.linspace(-10, 10, 10), np.linspace(-10, 10, 10))\n",
    "dx_grilla, dy_grilla = campo_vector(0, [x_grilla,y_grilla])\n",
    "fig, ax = plt.subplots(figsize=(6,6))\n",
    "ax.quiver(x_grilla, y_grilla, dx_grilla, dy_grilla, color='k', angles='xy')\n",
    "ax.set_xlabel('x', fontsize=16)\n",
    "ax.set_ylabel('y', fontsize=16)\n",
    "plt.show()"
   ]
  },
  {
   "cell_type": "markdown",
   "id": "1d08c0c4",
   "metadata": {
    "id": "1d08c0c4"
   },
   "source": [
    "---\n",
    "# [Extra] Nulclinas\n",
    "\n",
    "Sea el sistema ya visto previamente en varias partes del Colab\n",
    "\n",
    "$$\n",
    "\\dot{x} = 4x+2y\n",
    "$$\n",
    "$$\n",
    "\\dot{y} = -17x-5y\n",
    "$$\n",
    "\n",
    "Vamos a graficar las nulclinas"
   ]
  },
  {
   "cell_type": "code",
   "execution_count": null,
   "id": "uwp4cbFLINY0",
   "metadata": {
    "id": "uwp4cbFLINY0"
   },
   "outputs": [],
   "source": [
    "def sistema_nulclinas(t, z):\n",
    "    x = z[0]\n",
    "    y = z[1]\n",
    "    dxdt = 4*x + 2*y\n",
    "    dydt = -17*x - 5*y\n",
    "    return [dxdt, dydt]"
   ]
  },
  {
   "cell_type": "markdown",
   "id": "1cf12902",
   "metadata": {
    "id": "1cf12902"
   },
   "source": [
    "Dos formas de calcular nulclina:\n",
    "- cuando podemos despejar"
   ]
  },
  {
   "cell_type": "code",
   "execution_count": null,
   "id": "1adc90eb",
   "metadata": {
    "id": "1adc90eb"
   },
   "outputs": [],
   "source": [
    "nuly_y = np.linspace(-2, 2)\n",
    "nuly_x = -2/4*nuly_y\n",
    "plt.plot(nuly_x, nuly_y)\n",
    "\n",
    "nulx_x = np.linspace(-2, 2)\n",
    "nulx_y = -17/5*nulx_x\n",
    "plt.plot(nulx_x, nulx_y)\n",
    "plt.ylim(-2, 2)\n",
    "plt.xlim(-2, 2)\n",
    "plt.show()"
   ]
  },
  {
   "cell_type": "markdown",
   "id": "126024ce",
   "metadata": {
    "id": "126024ce"
   },
   "source": [
    "- más en general, usando `plt.contour` para levels=[0]\n",
    "\n"
   ]
  },
  {
   "cell_type": "code",
   "execution_count": null,
   "id": "128c19e1",
   "metadata": {
    "id": "128c19e1"
   },
   "outputs": [],
   "source": [
    "x = np.linspace(-2, 2, 100)\n",
    "y = np.linspace(-2, 2, 100)\n",
    "XX, YY = np.meshgrid(x, y)\n",
    "DX, DY = sistema_nulclinas(0, [XX, YY])"
   ]
  },
  {
   "cell_type": "code",
   "execution_count": null,
   "id": "6dc46a26",
   "metadata": {
    "id": "6dc46a26"
   },
   "outputs": [],
   "source": [
    "c = plt.contour(XX, YY, DX, levels=[0], colors=['r'])\n",
    "c = plt.contour(XX, YY, DY, levels=[0], colors=['g'])"
   ]
  },
  {
   "cell_type": "markdown",
   "id": "HvNSOoBCJ8FP",
   "metadata": {
    "id": "HvNSOoBCJ8FP"
   },
   "source": [
    "Veamos el flujo de campo vector. Cómo espera que sea sobre las nulcinas?"
   ]
  },
  {
   "cell_type": "code",
   "execution_count": null,
   "id": "dxAZHe7PKVx_",
   "metadata": {
    "id": "dxAZHe7PKVx_"
   },
   "outputs": [],
   "source": [
    "x_grilla, y_grilla = np.meshgrid(np.linspace(-2, 2, 10), np.linspace(-2, 2, 10))\n",
    "dx_grilla, dy_grilla = sistema_nulclinas(0, [x_grilla,y_grilla])\n",
    "fig, ax = plt.subplots(figsize=(6,6))\n",
    "ax.quiver(x_grilla, y_grilla, dx_grilla, dy_grilla, color='k', angles='xy')\n",
    "ax.set_xlabel('x', fontsize=16)\n",
    "ax.set_ylabel('y', fontsize=16)\n",
    "plt.show()"
   ]
  },
  {
   "cell_type": "markdown",
   "id": "wIWmpNDNJ4om",
   "metadata": {
    "id": "wIWmpNDNJ4om"
   },
   "source": [
    "Qué espera que pase respecto a los puntos fijos?"
   ]
  },
  {
   "cell_type": "markdown",
   "id": "t5W0lGkIc9FS",
   "metadata": {
    "id": "t5W0lGkIc9FS"
   },
   "source": [
    "---\n",
    "# [Extra] Puntos fijos y estabilidad en 2D\n",
    "\n",
    "Para el sistema anterior, vamos a calcular puntos fijos"
   ]
  },
  {
   "cell_type": "code",
   "execution_count": null,
   "id": "gddaR4QoMWgB",
   "metadata": {
    "id": "gddaR4QoMWgB"
   },
   "outputs": [],
   "source": [
    "# Redefinimos el sistema sin la dependencia temporal\n",
    "def sistema_nulclinas_sin_t(z):\n",
    "    return sistema_nulclinas(0, z)"
   ]
  },
  {
   "cell_type": "code",
   "execution_count": null,
   "id": "nmI7hGPadv21",
   "metadata": {
    "id": "nmI7hGPadv21"
   },
   "outputs": [],
   "source": [
    "N = 50\n",
    "x0s = np.random.uniform(low=-2, high=2, size=(N,))\n",
    "y0s = np.random.uniform(low=-2, high=2, size=(N,))\n",
    "raices = []\n",
    "for x0, y0 in zip(x0s, y0s):\n",
    "    z0 = [x0, y0]\n",
    "    raices.append(sp.optimize.fsolve(sistema_nulclinas_sin_t, z0))\n",
    "raiz = np.unique(np.array(raices).round(2), axis=0)[0]"
   ]
  },
  {
   "cell_type": "code",
   "execution_count": null,
   "id": "W-uyg9jlc7uO",
   "metadata": {
    "id": "W-uyg9jlc7uO"
   },
   "outputs": [],
   "source": [
    "raiz"
   ]
  },
  {
   "cell_type": "markdown",
   "id": "GmubT-jWRTdS",
   "metadata": {
    "id": "GmubT-jWRTdS"
   },
   "source": [
    "El sistema de por sí es lineal, pero si tuviese que linearizar calcularía la matriz Jacobiana evaluada en el punto fijo. Después calculamos para esa matriz los autovalores y autovectores. En base a lo visto en el Colab, cómo espera que sean los autovalores?"
   ]
  },
  {
   "cell_type": "code",
   "execution_count": null,
   "id": "6dE8Xcx1c7rV",
   "metadata": {
    "id": "6dE8Xcx1c7rV"
   },
   "outputs": [],
   "source": [
    "J = np.array([[4, 2],[-17, -5]])\n",
    "\n",
    "# Calcular autovalores y autovectores\n",
    "eigenvalues, eigenvectors = np.linalg.eig(J)\n",
    "\n",
    "# Mostrar los resultados\n",
    "print(\"Autovalores:\")\n",
    "print(eigenvalues)\n",
    "\n",
    "print(\"\\nAutovectores:\")\n",
    "print(eigenvectors)"
   ]
  },
  {
   "cell_type": "markdown",
   "id": "NMozaquISWYw",
   "metadata": {
    "id": "NMozaquISWYw"
   },
   "source": [
    "La parte real negativa indica que el sistema es estable; las soluciones tienden a acercarse al punto fijo a medida que el tiempo avanza. La parte imaginaria sugiere que el sistema tiene un comportamiento oscilatorio alrededor del punto fijo. Esto implica que las soluciones no solo se acercan al punto fijo, sino que lo hacen en espiral. Por lo tanto, el punto fijo es un foco espiral estable. Las trayectorias en el espacio de fases girarán alrededor del punto fijo en espirales que decaen hacia el origen (el punto fijo).\n",
    "\n",
    "Respecto a los autovectores, cuando tienen una parte imaginaria, como en este caso, la trayectoria no se dirige simplemente en una línea recta hacia el punto fijo, sino que gira a medida que se aproxima.\n",
    "\n"
   ]
  }
 ],
 "metadata": {
  "colab": {
   "include_colab_link": true,
   "provenance": [],
   "toc_visible": true
  },
  "kernelspec": {
   "display_name": "Python 3 (ipykernel)",
   "language": "python",
   "name": "python3"
  },
  "language_info": {
   "codemirror_mode": {
    "name": "ipython",
    "version": 3
   },
   "file_extension": ".py",
   "mimetype": "text/x-python",
   "name": "python",
   "nbconvert_exporter": "python",
   "pygments_lexer": "ipython3",
   "version": "3.10.12"
  }
 },
 "nbformat": 4,
 "nbformat_minor": 5
}
